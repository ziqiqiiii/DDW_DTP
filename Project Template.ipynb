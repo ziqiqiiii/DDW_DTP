{
 "cells": [
  {
   "cell_type": "markdown",
   "metadata": {
    "cellIdentifier": "3brax54gc92mdv5yf4bog8",
    "deletable": false,
    "editable": false,
    "nbgrader": {
     "grade": false,
     "locked": true,
     "solution": false
    }
   },
   "source": [
    "# 2D Design Template"
   ]
  },
  {
   "cell_type": "markdown",
   "metadata": {
    "cellIdentifier": "boi0tuojn2lv0a7psqnphm",
    "deletable": false,
    "editable": false,
    "nbgrader": {
     "grade": false,
     "locked": true,
     "solution": false
    }
   },
   "source": [
    "# Overview\n",
    "\n",
    "The purpose of this project is for you to apply what you have learnt in this course. This includes working with data and visualizing it, create model of linear regression, as well as using metrics to measure the accuracy of your model. \n",
    "\n",
    "Please find the project handout description in the following [link](https://edimension.sutd.edu.sg/webapps/blackboard/content/listContent.jsp?course_id=_5582_1&content_id=_200537_1).\n"
   ]
  },
  {
   "cell_type": "markdown",
   "metadata": {
    "cellIdentifier": "4h8s09nq04kexe620dnp0j",
    "deletable": false,
    "editable": false,
    "nbgrader": {
     "grade": false,
     "locked": true,
     "solution": false
    }
   },
   "source": [
    "## Deliverables\n",
    "\n",
    "You need to submit this Jupyter notebook together with the dataset into Vocareum. Use the template in this notebook to work on this project. You are free to edit or add more cells if needed"
   ]
  },
  {
   "cell_type": "markdown",
   "metadata": {
    "cellIdentifier": "d4oukr61l4snjxaqy2gn3l"
   },
   "source": [
    "## Students Submission\n",
    "*Include a short sentence summarizing each member’s contribution.*\n",
    "\n",
    "Student's Name:\n",
    "- Name 1\n",
    "- Name 2\n",
    "- ..."
   ]
  },
  {
   "cell_type": "markdown",
   "metadata": {
    "cellIdentifier": "sugx7cl409ty0kwq55dua",
    "tags": []
   },
   "source": [
    "### Problem Statement\n",
    "\n",
    "- Background description of the problem:\n",
    "\n",
    "How might we predict total carbon emissions from food waste using food production and waste data, so that F&B sectors can make more climate-conscious decisions and contribute towards Singapore's 2030 Green Plan.\n",
    "\n",
    "- User Persona\n",
    "\n",
    "- Problem Statement using “how might we ...” statement"
   ]
  },
  {
   "cell_type": "markdown",
   "metadata": {
    "cellIdentifier": "d88z0vga22yzgsnze3ql",
    "deletable": false,
    "editable": false,
    "nbgrader": {
     "grade": false,
     "locked": true,
     "solution": false
    },
    "tags": []
   },
   "source": [
    "### Dataset\n",
    "\n",
    "- Describe your dataset.\n",
    "- Put the link to the sources of your raw dataset.\n",
    "- Put python codes for loading the data into pandas dataframe(s). The data should be the raw data downloaded from the source. No pre-processing using any software (excel, python, etc) yet. Include this dataset in your submission\n",
    "- Explain each column of your dataset (can use comment or markdown)\n",
    "- State which column is the dependent variable (target) and explain how it is related to your problem statement\n",
    "- State which columns are the independent variables (features) and describe your hypothesis on why these features can predict the target variable"
   ]
  },
  {
   "cell_type": "code",
   "execution_count": 1,
   "metadata": {
    "cellIdentifier": "ud3vpqunu1qpn45nwknjjd"
   },
   "outputs": [],
   "source": [
    "# put Python code to load the raw data"
   ]
  },
  {
   "cell_type": "markdown",
   "metadata": {
    "cellIdentifier": "mnalotvuhwah3o3d16kul",
    "deletable": false,
    "editable": false,
    "nbgrader": {
     "grade": false,
     "locked": true,
     "solution": false
    }
   },
   "source": [
    "### Clean & Analyze your data\n",
    "Use python code to:\n",
    "- Clean your data\n",
    "- Calculate Descriptive Statistics and other statistical analysis\n",
    "- Visualization with meaningful analysis description"
   ]
  },
  {
   "cell_type": "code",
   "execution_count": 3,
   "metadata": {
    "cellIdentifier": "drintkqv74g03a98h37kr7a"
   },
   "outputs": [],
   "source": [
    "# clean data"
   ]
  },
  {
   "cell_type": "code",
   "execution_count": 4,
   "metadata": {
    "cellIdentifier": "llzyf0wxva9qcb5sqwe4ip"
   },
   "outputs": [],
   "source": [
    "# descriptive statistics"
   ]
  },
  {
   "cell_type": "code",
   "execution_count": 5,
   "metadata": {
    "cellIdentifier": "pvcupguct9c8fggigcezh"
   },
   "outputs": [],
   "source": [
    "# visualization with analysis"
   ]
  },
  {
   "cell_type": "markdown",
   "metadata": {
    "cellIdentifier": "5spy1s2ji3345y1uunm7es",
    "deletable": false,
    "editable": false,
    "nbgrader": {
     "grade": false,
     "locked": true,
     "solution": false
    }
   },
   "source": [
    "### Features and Target Preparation\n",
    "\n",
    "Prepare features and target for model training."
   ]
  },
  {
   "cell_type": "code",
   "execution_count": null,
   "metadata": {
    "cellIdentifier": "x1leu6b5aph6akcqy9stf4",
    "collapsed": true,
    "jupyter": {
     "outputs_hidden": true
    }
   },
   "outputs": [],
   "source": [
    "# put Python code to prepare your features and target"
   ]
  },
  {
   "cell_type": "markdown",
   "metadata": {
    "cellIdentifier": "wyzlafckek8h4t0nsibxr",
    "deletable": false,
    "editable": false,
    "nbgrader": {
     "grade": false,
     "locked": true,
     "solution": false
    }
   },
   "source": [
    "### Building Model\n",
    "\n",
    "Use python code to build your model. Give explanation on this process."
   ]
  },
  {
   "cell_type": "code",
   "execution_count": null,
   "metadata": {
    "cellIdentifier": "nkl339hcc1g22vccuogg2o",
    "collapsed": true,
    "jupyter": {
     "outputs_hidden": true
    }
   },
   "outputs": [],
   "source": [
    "# put Python code to build your model"
   ]
  },
  {
   "cell_type": "markdown",
   "metadata": {
    "cellIdentifier": "2unt7l8s45pvvfr8i0j0ka",
    "deletable": false,
    "editable": false,
    "nbgrader": {
     "grade": false,
     "locked": true,
     "solution": false
    }
   },
   "source": [
    "### Evaluating the Model\n",
    "\n",
    "- Describe the metrics of your choice\n",
    "- Evaluate your model performance"
   ]
  },
  {
   "cell_type": "code",
   "execution_count": 6,
   "metadata": {
    "cellIdentifier": "0pc6mmhipg0b5twb6ag1td"
   },
   "outputs": [],
   "source": [
    "# put Python code to test & evaluate the model"
   ]
  },
  {
   "cell_type": "markdown",
   "metadata": {
    "cellIdentifier": "hnrervpc9ood1trkd0ku3c",
    "deletable": false,
    "editable": false,
    "nbgrader": {
     "grade": false,
     "locked": true,
     "solution": false
    }
   },
   "source": [
    "### Improving the Model\n",
    "\n",
    "- Improve the models by performing any data processing techniques or hyperparameter tuning.\n",
    "- You can repeat the steps above to show the improvement as compared to the previous performance\n",
    "\n",
    "Note:\n",
    "- You should not change or add dataset at this step\n",
    "- You are allowed to use library such as sklearn for data processing (NOT for building model)\n",
    "- Make sure to have the same test dataset so the results are comparable with the previous model \n",
    "- If you perform hyperparameter tuning, it will require you to split your training data further into train and validation dataset"
   ]
  },
  {
   "cell_type": "code",
   "execution_count": null,
   "metadata": {
    "cellIdentifier": "x3anvx5y9u9s2x85i5gnwa"
   },
   "outputs": [],
   "source": [
    "# Re-iterate the steps above with improvement"
   ]
  },
  {
   "cell_type": "markdown",
   "metadata": {
    "cellIdentifier": "c9ywqckb64avu5qr8n5i2",
    "deletable": false,
    "editable": false,
    "nbgrader": {
     "grade": false,
     "locked": true,
     "solution": false
    }
   },
   "source": [
    "### Discussion and Analysis\n",
    "\n",
    "- Analyze the results of your metrics.\n",
    "- Explain how does your analysis and machine learning help to solve your problem statement.\n",
    "- Conclusion"
   ]
  },
  {
   "cell_type": "markdown",
   "metadata": {
    "cellIdentifier": "8pdxldawaydxaekkynrcgk"
   },
   "source": []
  }
 ],
 "metadata": {
  "kernelspec": {
   "display_name": "Python 3 [3.10]",
   "language": "python",
   "name": "python3"
  },
  "language_info": {
   "codemirror_mode": {
    "name": "ipython",
    "version": 3
   },
   "file_extension": ".py",
   "mimetype": "text/x-python",
   "name": "python",
   "nbconvert_exporter": "python",
   "pygments_lexer": "ipython3",
   "version": "3.10.2"
  }
 },
 "nbformat": 4,
 "nbformat_minor": 4
}
